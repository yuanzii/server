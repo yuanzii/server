{
 "cells": [
  {
   "cell_type": "code",
   "execution_count": 55,
   "outputs": [],
   "source": [],
   "metadata": {
    "collapsed": false,
    "pycharm": {
     "name": "#%%\n"
    }
   }
  },
  {
   "cell_type": "code",
   "execution_count": 56,
   "outputs": [],
   "source": [
    "import psycopg2\n",
    "\n",
    "con = psycopg2.connect(\n",
    "        host=\"127.0.0.1\",\n",
    "        database=\"car_db\",\n",
    "        user=\"yuanzi\",\n",
    "        password=\"yuan7142\",\n",
    "        port=5432\n",
    "    )"
   ],
   "metadata": {
    "collapsed": false,
    "pycharm": {
     "name": "#%%\n"
    }
   }
  },
  {
   "cell_type": "code",
   "execution_count": 57,
   "outputs": [],
   "source": [
    "import pandas as pd"
   ],
   "metadata": {
    "collapsed": false,
    "pycharm": {
     "name": "#%%\n"
    }
   }
  },
  {
   "cell_type": "code",
   "execution_count": 58,
   "outputs": [
    {
     "data": {
      "text/plain": "      id        order_id customer_id       customer_name  total_amount  \\\n0     51  20200814134059        A283  အားခွင်း ဟောင်လိတ်        5500.0   \n1     52  20200814134143        A281   ကိုကျော် တော်ကော့        6600.0   \n2     52  20200814134143        A281   ကိုကျော် တော်ကော့        6600.0   \n3     53  20200814134312        A285    ကိုစိုး ကချင်ရွာ        1100.0   \n4     54  20200814134616        A280           ?????????        1100.0   \n..   ...             ...         ...                 ...           ...   \n739  765  20201103160255        A288           tachileik        6200.0   \n740  766  20201103160404        A288           tachileik        6200.0   \n741  767  20201104084949        A288           tachileik        6200.0   \n742  768  20201104090818        A283  အားခွင်း ဟောင်လိတ်        1400.0   \n743  769  20201104090944        A288           tachileik           0.0   \n\n               datetime product_id          product_name  \\\n0   2020-08-14 00:00:00     GV9999                  ခဲတံ   \n1   2020-08-14 00:00:00     GV9999                  ခဲတံ   \n2   2020-08-14 00:00:00     GV1212                pencil   \n3   2020-08-14 00:00:00     GV1212                pencil   \n4   2020-08-14 00:00:00     GV1212                pencil   \n..                  ...        ...                   ...   \n739 2020-11-03 16:02:47     GX2000       ဖြတ်စက် (မာဂီတ)   \n740 2020-11-03 16:04:03     GX2000       ဖြတ်စက် (မာဂီတ)   \n741 2020-11-04 08:49:28     GX2000       ဖြတ်စက် (မာဂီတ)   \n742 2020-11-04 09:38:18     GV2121  ပိုက်ရှည်(ပါး)(ကျား)   \n743 2020-11-04 09:39:32     GX2020         ဖြတ်စက် မာဂီတ   \n\n              product_detal  count   price  subtotal  \n0                     12*15   11.0   500.0    5500.0  \n1                     12*15   11.0   500.0    5500.0  \n2                     12*10   11.0   100.0    1100.0  \n3                     12*10   11.0   100.0    1100.0  \n4                     12*10   11.0   100.0    1100.0  \n..                      ...    ...     ...       ...  \n739   14'' Makita (LW-1401)    1.0  6200.0    6200.0  \n740   14'' Makita (LW-1401)    1.0  6200.0    6200.0  \n741   14'' Makita (LW-1401)    1.0  6200.0    6200.0  \n742            11/2'' (0.5)   20.0    70.0    1400.0  \n743  4''>Makita->Mod-9500NB    2.0     0.0       0.0  \n\n[744 rows x 12 columns]",
      "text/html": "<div>\n<style scoped>\n    .dataframe tbody tr th:only-of-type {\n        vertical-align: middle;\n    }\n\n    .dataframe tbody tr th {\n        vertical-align: top;\n    }\n\n    .dataframe thead th {\n        text-align: right;\n    }\n</style>\n<table border=\"1\" class=\"dataframe\">\n  <thead>\n    <tr style=\"text-align: right;\">\n      <th></th>\n      <th>id</th>\n      <th>order_id</th>\n      <th>customer_id</th>\n      <th>customer_name</th>\n      <th>total_amount</th>\n      <th>datetime</th>\n      <th>product_id</th>\n      <th>product_name</th>\n      <th>product_detal</th>\n      <th>count</th>\n      <th>price</th>\n      <th>subtotal</th>\n    </tr>\n  </thead>\n  <tbody>\n    <tr>\n      <th>0</th>\n      <td>51</td>\n      <td>20200814134059</td>\n      <td>A283</td>\n      <td>အားခွင်း ဟောင်လိတ်</td>\n      <td>5500.0</td>\n      <td>2020-08-14 00:00:00</td>\n      <td>GV9999</td>\n      <td>ခဲတံ</td>\n      <td>12*15</td>\n      <td>11.0</td>\n      <td>500.0</td>\n      <td>5500.0</td>\n    </tr>\n    <tr>\n      <th>1</th>\n      <td>52</td>\n      <td>20200814134143</td>\n      <td>A281</td>\n      <td>ကိုကျော် တော်ကော့</td>\n      <td>6600.0</td>\n      <td>2020-08-14 00:00:00</td>\n      <td>GV9999</td>\n      <td>ခဲတံ</td>\n      <td>12*15</td>\n      <td>11.0</td>\n      <td>500.0</td>\n      <td>5500.0</td>\n    </tr>\n    <tr>\n      <th>2</th>\n      <td>52</td>\n      <td>20200814134143</td>\n      <td>A281</td>\n      <td>ကိုကျော် တော်ကော့</td>\n      <td>6600.0</td>\n      <td>2020-08-14 00:00:00</td>\n      <td>GV1212</td>\n      <td>pencil</td>\n      <td>12*10</td>\n      <td>11.0</td>\n      <td>100.0</td>\n      <td>1100.0</td>\n    </tr>\n    <tr>\n      <th>3</th>\n      <td>53</td>\n      <td>20200814134312</td>\n      <td>A285</td>\n      <td>ကိုစိုး ကချင်ရွာ</td>\n      <td>1100.0</td>\n      <td>2020-08-14 00:00:00</td>\n      <td>GV1212</td>\n      <td>pencil</td>\n      <td>12*10</td>\n      <td>11.0</td>\n      <td>100.0</td>\n      <td>1100.0</td>\n    </tr>\n    <tr>\n      <th>4</th>\n      <td>54</td>\n      <td>20200814134616</td>\n      <td>A280</td>\n      <td>?????????</td>\n      <td>1100.0</td>\n      <td>2020-08-14 00:00:00</td>\n      <td>GV1212</td>\n      <td>pencil</td>\n      <td>12*10</td>\n      <td>11.0</td>\n      <td>100.0</td>\n      <td>1100.0</td>\n    </tr>\n    <tr>\n      <th>...</th>\n      <td>...</td>\n      <td>...</td>\n      <td>...</td>\n      <td>...</td>\n      <td>...</td>\n      <td>...</td>\n      <td>...</td>\n      <td>...</td>\n      <td>...</td>\n      <td>...</td>\n      <td>...</td>\n      <td>...</td>\n    </tr>\n    <tr>\n      <th>739</th>\n      <td>765</td>\n      <td>20201103160255</td>\n      <td>A288</td>\n      <td>tachileik</td>\n      <td>6200.0</td>\n      <td>2020-11-03 16:02:47</td>\n      <td>GX2000</td>\n      <td>ဖြတ်စက် (မာဂီတ)</td>\n      <td>14'' Makita (LW-1401)</td>\n      <td>1.0</td>\n      <td>6200.0</td>\n      <td>6200.0</td>\n    </tr>\n    <tr>\n      <th>740</th>\n      <td>766</td>\n      <td>20201103160404</td>\n      <td>A288</td>\n      <td>tachileik</td>\n      <td>6200.0</td>\n      <td>2020-11-03 16:04:03</td>\n      <td>GX2000</td>\n      <td>ဖြတ်စက် (မာဂီတ)</td>\n      <td>14'' Makita (LW-1401)</td>\n      <td>1.0</td>\n      <td>6200.0</td>\n      <td>6200.0</td>\n    </tr>\n    <tr>\n      <th>741</th>\n      <td>767</td>\n      <td>20201104084949</td>\n      <td>A288</td>\n      <td>tachileik</td>\n      <td>6200.0</td>\n      <td>2020-11-04 08:49:28</td>\n      <td>GX2000</td>\n      <td>ဖြတ်စက် (မာဂီတ)</td>\n      <td>14'' Makita (LW-1401)</td>\n      <td>1.0</td>\n      <td>6200.0</td>\n      <td>6200.0</td>\n    </tr>\n    <tr>\n      <th>742</th>\n      <td>768</td>\n      <td>20201104090818</td>\n      <td>A283</td>\n      <td>အားခွင်း ဟောင်လိတ်</td>\n      <td>1400.0</td>\n      <td>2020-11-04 09:38:18</td>\n      <td>GV2121</td>\n      <td>ပိုက်ရှည်(ပါး)(ကျား)</td>\n      <td>11/2'' (0.5)</td>\n      <td>20.0</td>\n      <td>70.0</td>\n      <td>1400.0</td>\n    </tr>\n    <tr>\n      <th>743</th>\n      <td>769</td>\n      <td>20201104090944</td>\n      <td>A288</td>\n      <td>tachileik</td>\n      <td>0.0</td>\n      <td>2020-11-04 09:39:32</td>\n      <td>GX2020</td>\n      <td>ဖြတ်စက် မာဂီတ</td>\n      <td>4''&gt;Makita-&gt;Mod-9500NB</td>\n      <td>2.0</td>\n      <td>0.0</td>\n      <td>0.0</td>\n    </tr>\n  </tbody>\n</table>\n<p>744 rows × 12 columns</p>\n</div>"
     },
     "execution_count": 58,
     "metadata": {},
     "output_type": "execute_result"
    }
   ],
   "source": [
    "\n",
    "A10001 = pd.read_sql(\"SELECT order_head.id,order_head.order_id,\\\n",
    "            order_head.customer_id,order_head.customer_name,order_head.total_amount,\\\n",
    "            order_head.datetime,order_goods.product_id,order_goods.product_name,\\\n",
    "            order_goods.product_detal,order_goods.count,order_goods.price,\\\n",
    "            order_goods.subtotal FROM order_head INNER JOIN order_goods\\\n",
    "            ON order_head.order_id=order_goods.order_id\", con)\n",
    "A10001"
   ],
   "metadata": {
    "collapsed": false,
    "pycharm": {
     "name": "#%%\n"
    }
   }
  },
  {
   "cell_type": "code",
   "execution_count": 59,
   "outputs": [
    {
     "data": {
      "text/plain": "    id        order_id customer_id     customer_name  total_amount   datetime  \\\n0  699  20201017091230        A285  ကိုစိုး ကချင်ရွာ       53500.0 2020-10-17   \n1  699  20201017091230        A285  ကိုစိုး ကချင်ရွာ       53500.0 2020-10-17   \n\n  product_id    product_name          product_detal  count  price  subtotal  \n0     AV1504   ဘိလပ်မြေ(ဆင်)  Elephant -> ( 50 kg )  400.0  120.0   48000.0  \n1     AV1501  ဘိလပ်မြေ(ကျား)     Tiger -> ( 50 kg )   50.0  110.0    5500.0  ",
      "text/html": "<div>\n<style scoped>\n    .dataframe tbody tr th:only-of-type {\n        vertical-align: middle;\n    }\n\n    .dataframe tbody tr th {\n        vertical-align: top;\n    }\n\n    .dataframe thead th {\n        text-align: right;\n    }\n</style>\n<table border=\"1\" class=\"dataframe\">\n  <thead>\n    <tr style=\"text-align: right;\">\n      <th></th>\n      <th>id</th>\n      <th>order_id</th>\n      <th>customer_id</th>\n      <th>customer_name</th>\n      <th>total_amount</th>\n      <th>datetime</th>\n      <th>product_id</th>\n      <th>product_name</th>\n      <th>product_detal</th>\n      <th>count</th>\n      <th>price</th>\n      <th>subtotal</th>\n    </tr>\n  </thead>\n  <tbody>\n    <tr>\n      <th>0</th>\n      <td>699</td>\n      <td>20201017091230</td>\n      <td>A285</td>\n      <td>ကိုစိုး ကချင်ရွာ</td>\n      <td>53500.0</td>\n      <td>2020-10-17</td>\n      <td>AV1504</td>\n      <td>ဘိလပ်မြေ(ဆင်)</td>\n      <td>Elephant -&gt; ( 50 kg )</td>\n      <td>400.0</td>\n      <td>120.0</td>\n      <td>48000.0</td>\n    </tr>\n    <tr>\n      <th>1</th>\n      <td>699</td>\n      <td>20201017091230</td>\n      <td>A285</td>\n      <td>ကိုစိုး ကချင်ရွာ</td>\n      <td>53500.0</td>\n      <td>2020-10-17</td>\n      <td>AV1501</td>\n      <td>ဘိလပ်မြေ(ကျား)</td>\n      <td>Tiger -&gt; ( 50 kg )</td>\n      <td>50.0</td>\n      <td>110.0</td>\n      <td>5500.0</td>\n    </tr>\n  </tbody>\n</table>\n</div>"
     },
     "execution_count": 59,
     "metadata": {},
     "output_type": "execute_result"
    }
   ],
   "source": [
    "A10001 = pd.read_sql(\"SELECT order_head.id,order_head.order_id,\\\n",
    "        order_head.customer_id,order_head.customer_name,order_head.total_amount,\\\n",
    "        order_head.datetime,order_goods.product_id,order_goods.product_name,\\\n",
    "        order_goods.product_detal,order_goods.count,order_goods.price,\\\n",
    "        order_goods.subtotal FROM order_head INNER JOIN order_goods\\\n",
    "        ON order_head.order_id=order_goods.order_id WHERE\\\n",
    "        (order_head.order_id='20201017091230' )\", con)\n",
    "A10001"
   ],
   "metadata": {
    "collapsed": false,
    "pycharm": {
     "name": "#%%\n"
    }
   }
  },
  {
   "cell_type": "code",
   "execution_count": 60,
   "outputs": [
    {
     "ename": "DatabaseError",
     "evalue": "Execution failed on sql 'delete a,b from order_head as a INNER JOIN order_goods as b ON a.order_id=b.order_id WHERE (a.order_id='20201102140431')': 错误:  语法错误 在 \"a\" 或附近的\nLINE 1: delete a,b from order_head as a INNER JOIN order_goods as b ...\n               ^\n",
     "output_type": "error",
     "traceback": [
      "\u001B[1;31m---------------------------------------------------------------------------\u001B[0m",
      "\u001B[1;31mSyntaxError\u001B[0m                               Traceback (most recent call last)",
      "\u001B[1;32m~\\OneDrive\\Documents\\anaconda3\\lib\\site-packages\\pandas\\io\\sql.py\u001B[0m in \u001B[0;36mexecute\u001B[1;34m(self, *args, **kwargs)\u001B[0m\n\u001B[0;32m   1585\u001B[0m         \u001B[1;32mtry\u001B[0m\u001B[1;33m:\u001B[0m\u001B[1;33m\u001B[0m\u001B[1;33m\u001B[0m\u001B[0m\n\u001B[1;32m-> 1586\u001B[1;33m             \u001B[0mcur\u001B[0m\u001B[1;33m.\u001B[0m\u001B[0mexecute\u001B[0m\u001B[1;33m(\u001B[0m\u001B[1;33m*\u001B[0m\u001B[0margs\u001B[0m\u001B[1;33m,\u001B[0m \u001B[1;33m**\u001B[0m\u001B[0mkwargs\u001B[0m\u001B[1;33m)\u001B[0m\u001B[1;33m\u001B[0m\u001B[1;33m\u001B[0m\u001B[0m\n\u001B[0m\u001B[0;32m   1587\u001B[0m             \u001B[1;32mreturn\u001B[0m \u001B[0mcur\u001B[0m\u001B[1;33m\u001B[0m\u001B[1;33m\u001B[0m\u001B[0m\n",
      "\u001B[1;31mSyntaxError\u001B[0m: 错误:  语法错误 在 \"a\" 或附近的\nLINE 1: delete a,b from order_head as a INNER JOIN order_goods as b ...\n               ^\n",
      "\nThe above exception was the direct cause of the following exception:\n",
      "\u001B[1;31mDatabaseError\u001B[0m                             Traceback (most recent call last)",
      "\u001B[1;32m<ipython-input-60-ec566ddb4f2f>\u001B[0m in \u001B[0;36m<module>\u001B[1;34m\u001B[0m\n\u001B[0;32m      1\u001B[0m B1001 = pd.read_sql_query(\"delete a,b from order_head as a \\\n\u001B[0;32m      2\u001B[0m \u001B[0mINNER\u001B[0m \u001B[0mJOIN\u001B[0m \u001B[0morder_goods\u001B[0m \u001B[1;32mas\u001B[0m \u001B[0mb\u001B[0m \u001B[0mON\u001B[0m \u001B[0ma\u001B[0m\u001B[1;33m.\u001B[0m\u001B[0morder_id\u001B[0m\u001B[1;33m=\u001B[0m\u001B[0mb\u001B[0m\u001B[1;33m.\u001B[0m\u001B[0morder_id\u001B[0m\u001B[0;31m \u001B[0m\u001B[0;31m\\\u001B[0m\u001B[1;33m\u001B[0m\u001B[1;33m\u001B[0m\u001B[0m\n\u001B[1;32m----> 3\u001B[1;33m WHERE (a.order_id='20201102140431')\",con)\n\u001B[0m\u001B[0;32m      4\u001B[0m \u001B[0mB1001\u001B[0m\u001B[1;33m\u001B[0m\u001B[1;33m\u001B[0m\u001B[0m\n\u001B[0;32m      5\u001B[0m \u001B[1;33m\u001B[0m\u001B[0m\n",
      "\u001B[1;32m~\\OneDrive\\Documents\\anaconda3\\lib\\site-packages\\pandas\\io\\sql.py\u001B[0m in \u001B[0;36mread_sql_query\u001B[1;34m(sql, con, index_col, coerce_float, params, parse_dates, chunksize)\u001B[0m\n\u001B[0;32m    330\u001B[0m         \u001B[0mcoerce_float\u001B[0m\u001B[1;33m=\u001B[0m\u001B[0mcoerce_float\u001B[0m\u001B[1;33m,\u001B[0m\u001B[1;33m\u001B[0m\u001B[1;33m\u001B[0m\u001B[0m\n\u001B[0;32m    331\u001B[0m         \u001B[0mparse_dates\u001B[0m\u001B[1;33m=\u001B[0m\u001B[0mparse_dates\u001B[0m\u001B[1;33m,\u001B[0m\u001B[1;33m\u001B[0m\u001B[1;33m\u001B[0m\u001B[0m\n\u001B[1;32m--> 332\u001B[1;33m         \u001B[0mchunksize\u001B[0m\u001B[1;33m=\u001B[0m\u001B[0mchunksize\u001B[0m\u001B[1;33m,\u001B[0m\u001B[1;33m\u001B[0m\u001B[1;33m\u001B[0m\u001B[0m\n\u001B[0m\u001B[0;32m    333\u001B[0m     )\n\u001B[0;32m    334\u001B[0m \u001B[1;33m\u001B[0m\u001B[0m\n",
      "\u001B[1;32m~\\OneDrive\\Documents\\anaconda3\\lib\\site-packages\\pandas\\io\\sql.py\u001B[0m in \u001B[0;36mread_query\u001B[1;34m(self, sql, index_col, coerce_float, params, parse_dates, chunksize)\u001B[0m\n\u001B[0;32m   1631\u001B[0m \u001B[1;33m\u001B[0m\u001B[0m\n\u001B[0;32m   1632\u001B[0m         \u001B[0margs\u001B[0m \u001B[1;33m=\u001B[0m \u001B[0m_convert_params\u001B[0m\u001B[1;33m(\u001B[0m\u001B[0msql\u001B[0m\u001B[1;33m,\u001B[0m \u001B[0mparams\u001B[0m\u001B[1;33m)\u001B[0m\u001B[1;33m\u001B[0m\u001B[1;33m\u001B[0m\u001B[0m\n\u001B[1;32m-> 1633\u001B[1;33m         \u001B[0mcursor\u001B[0m \u001B[1;33m=\u001B[0m \u001B[0mself\u001B[0m\u001B[1;33m.\u001B[0m\u001B[0mexecute\u001B[0m\u001B[1;33m(\u001B[0m\u001B[1;33m*\u001B[0m\u001B[0margs\u001B[0m\u001B[1;33m)\u001B[0m\u001B[1;33m\u001B[0m\u001B[1;33m\u001B[0m\u001B[0m\n\u001B[0m\u001B[0;32m   1634\u001B[0m         \u001B[0mcolumns\u001B[0m \u001B[1;33m=\u001B[0m \u001B[1;33m[\u001B[0m\u001B[0mcol_desc\u001B[0m\u001B[1;33m[\u001B[0m\u001B[1;36m0\u001B[0m\u001B[1;33m]\u001B[0m \u001B[1;32mfor\u001B[0m \u001B[0mcol_desc\u001B[0m \u001B[1;32min\u001B[0m \u001B[0mcursor\u001B[0m\u001B[1;33m.\u001B[0m\u001B[0mdescription\u001B[0m\u001B[1;33m]\u001B[0m\u001B[1;33m\u001B[0m\u001B[1;33m\u001B[0m\u001B[0m\n\u001B[0;32m   1635\u001B[0m \u001B[1;33m\u001B[0m\u001B[0m\n",
      "\u001B[1;32m~\\OneDrive\\Documents\\anaconda3\\lib\\site-packages\\pandas\\io\\sql.py\u001B[0m in \u001B[0;36mexecute\u001B[1;34m(self, *args, **kwargs)\u001B[0m\n\u001B[0;32m   1596\u001B[0m \u001B[1;33m\u001B[0m\u001B[0m\n\u001B[0;32m   1597\u001B[0m             \u001B[0mex\u001B[0m \u001B[1;33m=\u001B[0m \u001B[0mDatabaseError\u001B[0m\u001B[1;33m(\u001B[0m\u001B[1;34mf\"Execution failed on sql '{args[0]}': {exc}\"\u001B[0m\u001B[1;33m)\u001B[0m\u001B[1;33m\u001B[0m\u001B[1;33m\u001B[0m\u001B[0m\n\u001B[1;32m-> 1598\u001B[1;33m             \u001B[1;32mraise\u001B[0m \u001B[0mex\u001B[0m \u001B[1;32mfrom\u001B[0m \u001B[0mexc\u001B[0m\u001B[1;33m\u001B[0m\u001B[1;33m\u001B[0m\u001B[0m\n\u001B[0m\u001B[0;32m   1599\u001B[0m \u001B[1;33m\u001B[0m\u001B[0m\n\u001B[0;32m   1600\u001B[0m     \u001B[1;33m@\u001B[0m\u001B[0mstaticmethod\u001B[0m\u001B[1;33m\u001B[0m\u001B[1;33m\u001B[0m\u001B[0m\n",
      "\u001B[1;31mDatabaseError\u001B[0m: Execution failed on sql 'delete a,b from order_head as a INNER JOIN order_goods as b ON a.order_id=b.order_id WHERE (a.order_id='20201102140431')': 错误:  语法错误 在 \"a\" 或附近的\nLINE 1: delete a,b from order_head as a INNER JOIN order_goods as b ...\n               ^\n"
     ]
    }
   ],
   "source": [
    "B1001 = pd.read_sql_query(\"delete a,b from order_head as a \\\n",
    "INNER JOIN order_goods as b ON a.order_id=b.order_id \\\n",
    "WHERE (a.order_id='20201102140431')\",con)\n",
    "B1001\n",
    "\n",
    "\n"
   ],
   "metadata": {
    "collapsed": false,
    "pycharm": {
     "name": "#%%\n"
    }
   }
  }
 ],
 "metadata": {
  "kernelspec": {
   "display_name": "Python 3",
   "language": "python",
   "name": "python3"
  },
  "language_info": {
   "codemirror_mode": {
    "name": "ipython",
    "version": 2
   },
   "file_extension": ".py",
   "mimetype": "text/x-python",
   "name": "python",
   "nbconvert_exporter": "python",
   "pygments_lexer": "ipython2",
   "version": "2.7.6"
  }
 },
 "nbformat": 4,
 "nbformat_minor": 0
}