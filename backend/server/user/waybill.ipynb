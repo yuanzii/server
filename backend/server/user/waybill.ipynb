{
 "cells": [
  {
   "cell_type": "code",
   "execution_count": 2,
   "outputs": [],
   "source": [
    "import pandas as pd\n",
    "from pandas import DataFrame\n",
    "import datetime\n",
    "import random\n",
    "import psycopg2\n",
    "\n",
    "con = psycopg2.connect(\n",
    "        host=\"127.0.0.1\",\n",
    "        database=\"car_db\",\n",
    "        user=\"yuanzi\",\n",
    "        password=\"yuan7142\",\n",
    "        port=5432\n",
    "    )"
   ],
   "metadata": {
    "collapsed": false,
    "pycharm": {
     "name": "#%%\n"
    }
   }
  },
  {
   "cell_type": "code",
   "execution_count": 3,
   "outputs": [
    {
     "name": "stdout",
     "output_type": "stream",
     "text": [
      "202011021100490718\n"
     ]
    }
   ],
   "source": [
    "waybill =  [ { \"id\": 757, \"order_id\": 20201101113019, \"customer_id\": \"A283\", \"customer_name\": \"အားခွင်း ဟောင်လိတ်\", \"total_amount\": 35000, \"datetime\": 1604188800000, \"product_id\": \"AV1501\", \"product_name\": \"ဘိလပ်မြေ(ကျား)\", \"product_detal\": \"Tiger -> ( 50 kg )\", \"count\": 100, \"price\": 110, \"subtotal\": 11000 }, { \"id\": 757, \"order_id\": 20201101113019, \"customer_id\": \"A283\", \"customer_name\": \"အားခွင်း ဟောင်လိတ်\", \"total_amount\": 35000, \"datetime\": 1604188800000, \"product_id\": \"AV1504\", \"product_name\": \"ဘိလပ်မြေ(ဆင်)\", \"product_detal\": \"Elephant -> ( 50 kg )\", \"count\": 200, \"price\": 120, \"subtotal\": 24000 } ]\n",
    "\n",
    "nowTime = datetime.datetime.now().strftime(\"%Y%m%d%H%M%S\")  # 生成当前时间\n",
    "randomNum = random.randint(0, 10000)  # 生成的随机整数n，其中0<=n<=10000\n",
    "if randomNum <= 1000:\n",
    "    randomNum = str(0) + str(randomNum)\n",
    "elif randomNum <= 100:\n",
    "    randomNum = str(00) + str(randomNum)\n",
    "elif randomNum <= 10:\n",
    "    randomNum = str(000) + str(randomNum)\n",
    "uniqueNum = str(nowTime) + str(randomNum)\n",
    "print(uniqueNum)\n",
    "\n",
    "order_create_time = datetime.datetime.now().strftime(\"%Y/%m/%d %H:%M:%S\")"
   ],
   "metadata": {
    "collapsed": false,
    "pycharm": {
     "name": "#%%\n"
    }
   }
  },
  {
   "cell_type": "code",
   "execution_count": 4,
   "outputs": [],
   "source": [
    "for bill in waybill:\n",
    "    bill[\"waybill_id\"] = uniqueNum\n",
    "    bill[\"order_create_time\"] = order_create_time"
   ],
   "metadata": {
    "collapsed": false,
    "pycharm": {
     "name": "#%%\n"
    }
   }
  },
  {
   "cell_type": "code",
   "execution_count": 5,
   "outputs": [],
   "source": [
    "cur = con.cursor()\n",
    "cur.executemany(\"\"\"INSERT INTO waybill(waybill_id,customer_id,customer_name,product_id,\n",
    "            product_name,product_detail,count,order_id,order_create_time) VALUES (%(waybill_id)s,\n",
    "            %(customer_id)s,%(customer_name)s, %(product_id)s,%(product_name)s,%(product_detal)s,\n",
    "            %(count)s,%(order_id)s,%(order_create_time)s)\"\"\", waybill)\n",
    "con.commit()\n",
    "con.close()"
   ],
   "metadata": {
    "collapsed": false,
    "pycharm": {
     "name": "#%%\n"
    }
   }
  },
  {
   "cell_type": "code",
   "execution_count": null,
   "outputs": [],
   "source": [],
   "metadata": {
    "collapsed": false,
    "pycharm": {
     "name": "#%%\n"
    }
   }
  }
 ],
 "metadata": {
  "kernelspec": {
   "display_name": "Python 3",
   "language": "python",
   "name": "python3"
  },
  "language_info": {
   "codemirror_mode": {
    "name": "ipython",
    "version": 2
   },
   "file_extension": ".py",
   "mimetype": "text/x-python",
   "name": "python",
   "nbconvert_exporter": "python",
   "pygments_lexer": "ipython2",
   "version": "2.7.6"
  }
 },
 "nbformat": 4,
 "nbformat_minor": 0
}